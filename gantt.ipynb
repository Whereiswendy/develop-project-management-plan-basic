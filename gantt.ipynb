{
 "cells": [
  {
   "cell_type": "markdown",
   "metadata": {},
   "source": [
    "# Step 1: Define the Project and Proceed with Initial Planning"
   ]
  },
  {
   "cell_type": "markdown",
   "metadata": {},
   "source": [
    "---\n",
    "\n",
    "**Manual Project Planning:**\n",
    "\n",
    "If you prefer to plan manually, this can be done in a spreadsheet or a text editor (a template is provided: resources/template.csv).\n",
    "\n",
    "---\n",
    "\n",
    "**Prompt Assisted Project Planning:**\n",
    "\n",
    "Simply edit and paste this into your preferred chat bot:\n",
    "\n",
    "```\n",
    "I am starting a project and need help with planning it from ideation to deployment. The project duration is [X] weeks, and the project is about [brief description of the project].\n",
    "\n",
    "Please help me outline the key phases, tasks, and milestones over this period. Break the project down into logical weekly sections, and include specific tasks for each week. Each task should be a distinct action or sub-task relevant to the weekly goal, providing a clear and detailed description of what needs to be accomplished. Ensure the plan follows best practices for project management.\n",
    "\n",
    "The final output should be structured in a CSV format with the following columns:\n",
    "\n",
    "Task: Each task should be labeled as 'Week X: Task Y', where X is the week number and Y is the task number within that week.\n",
    "Start: The start date of the task (YYYY-MM-DD).\n",
    "Finish: The end date of the task (YYYY-MM-DD).\n",
    "Progress: The progress percentage (0 to 100, initially 0%).\n",
    "Description: A detailed description of what the task entails, focusing on specific actions or sub-tasks.\n",
    "Please ensure the tasks are evenly distributed across the weeks and cover all aspects of the project, from initial planning to final deployment and post-launch review. Provide the output in a CSV format.\n",
    "```\n",
    "\n",
    "---\n",
    "\n",
    "**Saving the Project Plan:**\n",
    "\n",
    "Once you have the initial planning done, save it and note it's file path. You will need this later on.\n",
    "\n",
    "---"
   ]
  },
  {
   "cell_type": "markdown",
   "metadata": {},
   "source": [
    "# Step 1: Import Necessary Libraries"
   ]
  },
  {
   "cell_type": "code",
   "execution_count": 18,
   "metadata": {},
   "outputs": [],
   "source": [
    "import pandas as pd\n",
    "import plotly.express as px\n",
    "import plotly.graph_objects as go\n",
    "from datetime import datetime"
   ]
  },
  {
   "cell_type": "markdown",
   "metadata": {},
   "source": [
    "# Step 2: Function to Load Tasks from CSV"
   ]
  },
  {
   "cell_type": "code",
   "execution_count": 19,
   "metadata": {},
   "outputs": [],
   "source": [
    "def load_tasks_from_csv(file_path):\n",
    "    \"\"\"\n",
    "    Load tasks from a CSV file.\n",
    "\n",
    "    Explanation:\n",
    "    - Task: This column contains the task name, which includes the week and a brief description of the task.\n",
    "    - Start: The start date of the task in YYYY-MM-DD format.\n",
    "    - Finish: The end date of the task in YYYY-MM-DD format.\n",
    "    - Progress: The percentage completion of the task, ranging from 0 to 100.\n",
    "    - Description: A brief description of the task, which will appear as a label on the Gantt chart.\n",
    "\n",
    "    How to Use the Template:\n",
    "    1. Fill in the Template: Use the template located at `root/resources/template.csv` to create your task list.\n",
    "       - Add more rows as required for additional tasks.\n",
    "    2. Save as CSV: Once you've entered all your tasks, save the file as a `.csv` file.\n",
    "    3. Load the CSV: When running the script, enter the path to this CSV file when prompted.\n",
    "    \"\"\"\n",
    "    df = pd.read_csv(file_path)\n",
    "    \n",
    "    # Ensure the data is in the correct format\n",
    "    df['Start'] = pd.to_datetime(df['Start'])\n",
    "    df['Finish'] = pd.to_datetime(df['Finish'])\n",
    "    df['Progress'] = df['Progress'].astype(float)\n",
    "    \n",
    "    return df"
   ]
  },
  {
   "cell_type": "markdown",
   "metadata": {},
   "source": [
    "# Step 3: Function to Create Gantt Chart"
   ]
  },
  {
   "cell_type": "code",
   "execution_count": 34,
   "metadata": {},
   "outputs": [],
   "source": [
    "def create_gantt_chart(df):\n",
    "    # Create the Gantt chart using the Viridis color scale based on progress\n",
    "    fig = px.timeline(df, x_start=\"Start\", x_end=\"Finish\", y=\"Task\", color=\"Progress\",\n",
    "                      title=\"Project Gantt Chart with Progress\",\n",
    "                      color_continuous_scale=\"Viridis\",\n",
    "                      range_color=[0, 100],\n",
    "                      labels={\"Progress\": \"Completion (%)\"})  # Customize the color bar label\n",
    "\n",
    "    # Update layout: move legend, increase font size, and adjust margins\n",
    "    fig.update_layout(\n",
    "        yaxis_title=\"Tasks\",\n",
    "        xaxis_title=\"Timeline\",\n",
    "        title_x=0.5,  # Center the title\n",
    "        legend=dict(\n",
    "            orientation=\"h\",\n",
    "            yanchor=\"top\",\n",
    "            y=-0.25,  # Place below the chart\n",
    "            xanchor=\"center\",\n",
    "            x=0.5\n",
    "        ),\n",
    "        font=dict(size=12),  # Increase the font size\n",
    "        margin=dict(l=20, r=20, t=60, b=100)  # Adjust margins to fit everything nicely\n",
    "    )\n",
    "    \n",
    "    # Remove annotations and add detailed descriptions to the hover tooltips\n",
    "    fig.update_traces(\n",
    "        marker=dict(line=dict(color='rgb(0,0,0)', width=1)),\n",
    "        hovertemplate=\"<br>\".join([\n",
    "            \"Task: %{y}\",\n",
    "            \"Start: %{x|%Y-%m-%d}\",\n",
    "            \"End: %{customdata[1]|%Y-%m-%d}\",\n",
    "            \"Progress: %{customdata[2]}%\",\n",
    "            \"Description: %{customdata[0]}\"\n",
    "        ]),\n",
    "        customdata=df[['Description', 'Finish', 'Progress']].values  # Pass the description, finish date, and progress data\n",
    "    )\n",
    "    \n",
    "    fig.show()\n"
   ]
  },
  {
   "cell_type": "markdown",
   "metadata": {},
   "source": [
    "# Step 4: Main Block to Execute the Script"
   ]
  },
  {
   "cell_type": "code",
   "execution_count": 35,
   "metadata": {},
   "outputs": [
    {
     "name": "stdout",
     "output_type": "stream",
     "text": [
      "resources/Project_Plan.csv\n"
     ]
    },
    {
     "data": {
      "application/vnd.plotly.v1+json": {
       "config": {
        "plotlyServerURL": "https://plot.ly"
       },
       "data": [
        {
         "alignmentgroup": "True",
         "base": [
          "2024-09-04T00:00:00",
          "2024-09-04T00:00:00",
          "2024-09-11T00:00:00",
          "2024-09-11T00:00:00",
          "2024-09-18T00:00:00",
          "2024-09-18T00:00:00",
          "2024-09-25T00:00:00",
          "2024-09-25T00:00:00",
          "2024-10-02T00:00:00",
          "2024-10-02T00:00:00",
          "2024-10-09T00:00:00",
          "2024-10-09T00:00:00",
          "2024-10-16T00:00:00",
          "2024-10-16T00:00:00",
          "2024-10-23T00:00:00",
          "2024-10-23T00:00:00",
          "2024-10-30T00:00:00",
          "2024-10-30T00:00:00",
          "2024-11-06T00:00:00",
          "2024-11-06T00:00:00"
         ],
         "customdata": [
          [
           "Define project objectives and scope. Finalize key deliverables and stakeholders. Create a project charter.",
           "2024-09-10T00:00:00",
           0
          ],
          [
           "Conduct initial research on existing image analysis tools and technologies relevant to geoscience.",
           "2024-09-10T00:00:00",
           0
          ],
          [
           "Brainstorm and ideate potential features and functionalities for the image analysis tool.",
           "2024-09-17T00:00:00",
           0
          ],
          [
           "Create user personas and use cases to guide the tool's design and development.",
           "2024-09-17T00:00:00",
           0
          ],
          [
           "Develop wireframes and mockups for the user interface. Gather feedback from potential users.",
           "2024-09-24T00:00:00",
           0
          ],
          [
           "Select the appropriate technology stack and tools for the project's development phase.",
           "2024-09-24T00:00:00",
           0
          ],
          [
           "Set up the development environment, including version control and necessary software installations.",
           "2024-10-01T00:00:00",
           0
          ],
          [
           "Begin coding the basic structure of the image analysis tool, focusing on core functionality.",
           "2024-10-01T00:00:00",
           0
          ],
          [
           "Continue development with a focus on implementing key features and ensuring functionality.",
           "2024-10-08T00:00:00",
           0
          ],
          [
           "Conduct regular code reviews and testing to catch and fix bugs early in the development process.",
           "2024-10-08T00:00:00",
           0
          ],
          [
           "Integrate any necessary APIs or external libraries. Ensure compatibility with the development environment.",
           "2024-10-15T00:00:00",
           0
          ],
          [
           "Complete the initial version of the tool and prepare for alpha testing by the project team.",
           "2024-10-15T00:00:00",
           0
          ],
          [
           "Conduct alpha testing with a small group of users. Gather feedback on usability and performance.",
           "2024-10-22T00:00:00",
           0
          ],
          [
           "Refine and optimize the tool based on feedback. Focus on enhancing the user experience.",
           "2024-10-22T00:00:00",
           0
          ],
          [
           "Prepare for beta testing by finalizing all core features and addressing any remaining issues.",
           "2024-10-29T00:00:00",
           0
          ],
          [
           "Conduct beta testing with a broader group of users. Collect feedback and track any reported bugs.",
           "2024-10-29T00:00:00",
           0
          ],
          [
           "Finalize the tool for deployment. Ensure all documentation is complete and ready for release.",
           "2024-11-05T00:00:00",
           0
          ],
          [
           "Deploy the image analysis tool to the selected platform(s). Perform a final round of testing post-deployment.",
           "2024-11-05T00:00:00",
           0
          ],
          [
           "Conduct a post-launch review. Analyze user feedback and tool performance metrics.",
           "2024-11-12T00:00:00",
           0
          ],
          [
           "Document lessons learned and create a plan for future updates or iterations of the tool.",
           "2024-11-12T00:00:00",
           0
          ]
         ],
         "hovertemplate": "Task: %{y}<br>Start: %{x|%Y-%m-%d}<br>End: %{customdata[1]|%Y-%m-%d}<br>Progress: %{customdata[2]}%<br>Description: %{customdata[0]}",
         "legendgroup": "",
         "marker": {
          "color": [
           0,
           0,
           0,
           0,
           0,
           0,
           0,
           0,
           0,
           0,
           0,
           0,
           0,
           0,
           0,
           0,
           0,
           0,
           0,
           0
          ],
          "coloraxis": "coloraxis",
          "line": {
           "color": "rgb(0,0,0)",
           "width": 1
          },
          "pattern": {
           "shape": ""
          }
         },
         "name": "",
         "offsetgroup": "",
         "orientation": "h",
         "showlegend": false,
         "textposition": "auto",
         "type": "bar",
         "x": [
          518400000,
          518400000,
          518400000,
          518400000,
          518400000,
          518400000,
          518400000,
          518400000,
          518400000,
          518400000,
          518400000,
          518400000,
          518400000,
          518400000,
          518400000,
          518400000,
          518400000,
          518400000,
          518400000,
          518400000
         ],
         "xaxis": "x",
         "y": [
          "Week 1: Task 1",
          "Week 1: Task 2",
          "Week 2: Task 1",
          "Week 2: Task 2",
          "Week 3: Task 1",
          "Week 3: Task 2",
          "Week 4: Task 1",
          "Week 4: Task 2",
          "Week 5: Task 1",
          "Week 5: Task 2",
          "Week 6: Task 1",
          "Week 6: Task 2",
          "Week 7: Task 1",
          "Week 7: Task 2",
          "Week 8: Task 1",
          "Week 8: Task 2",
          "Week 9: Task 1",
          "Week 9: Task 2",
          "Week 10: Task 1",
          "Week 10: Task 2"
         ],
         "yaxis": "y"
        }
       ],
       "layout": {
        "barmode": "overlay",
        "coloraxis": {
         "cmax": 100,
         "cmin": 0,
         "colorbar": {
          "title": {
           "text": "Completion (%)"
          }
         },
         "colorscale": [
          [
           0,
           "#440154"
          ],
          [
           0.1111111111111111,
           "#482878"
          ],
          [
           0.2222222222222222,
           "#3e4989"
          ],
          [
           0.3333333333333333,
           "#31688e"
          ],
          [
           0.4444444444444444,
           "#26828e"
          ],
          [
           0.5555555555555556,
           "#1f9e89"
          ],
          [
           0.6666666666666666,
           "#35b779"
          ],
          [
           0.7777777777777778,
           "#6ece58"
          ],
          [
           0.8888888888888888,
           "#b5de2b"
          ],
          [
           1,
           "#fde725"
          ]
         ]
        },
        "font": {
         "size": 12
        },
        "legend": {
         "orientation": "h",
         "tracegroupgap": 0,
         "x": 0.5,
         "xanchor": "center",
         "y": -0.25,
         "yanchor": "top"
        },
        "margin": {
         "b": 100,
         "l": 20,
         "r": 20,
         "t": 60
        },
        "template": {
         "data": {
          "bar": [
           {
            "error_x": {
             "color": "#2a3f5f"
            },
            "error_y": {
             "color": "#2a3f5f"
            },
            "marker": {
             "line": {
              "color": "#E5ECF6",
              "width": 0.5
             },
             "pattern": {
              "fillmode": "overlay",
              "size": 10,
              "solidity": 0.2
             }
            },
            "type": "bar"
           }
          ],
          "barpolar": [
           {
            "marker": {
             "line": {
              "color": "#E5ECF6",
              "width": 0.5
             },
             "pattern": {
              "fillmode": "overlay",
              "size": 10,
              "solidity": 0.2
             }
            },
            "type": "barpolar"
           }
          ],
          "carpet": [
           {
            "aaxis": {
             "endlinecolor": "#2a3f5f",
             "gridcolor": "white",
             "linecolor": "white",
             "minorgridcolor": "white",
             "startlinecolor": "#2a3f5f"
            },
            "baxis": {
             "endlinecolor": "#2a3f5f",
             "gridcolor": "white",
             "linecolor": "white",
             "minorgridcolor": "white",
             "startlinecolor": "#2a3f5f"
            },
            "type": "carpet"
           }
          ],
          "choropleth": [
           {
            "colorbar": {
             "outlinewidth": 0,
             "ticks": ""
            },
            "type": "choropleth"
           }
          ],
          "contour": [
           {
            "colorbar": {
             "outlinewidth": 0,
             "ticks": ""
            },
            "colorscale": [
             [
              0,
              "#0d0887"
             ],
             [
              0.1111111111111111,
              "#46039f"
             ],
             [
              0.2222222222222222,
              "#7201a8"
             ],
             [
              0.3333333333333333,
              "#9c179e"
             ],
             [
              0.4444444444444444,
              "#bd3786"
             ],
             [
              0.5555555555555556,
              "#d8576b"
             ],
             [
              0.6666666666666666,
              "#ed7953"
             ],
             [
              0.7777777777777778,
              "#fb9f3a"
             ],
             [
              0.8888888888888888,
              "#fdca26"
             ],
             [
              1,
              "#f0f921"
             ]
            ],
            "type": "contour"
           }
          ],
          "contourcarpet": [
           {
            "colorbar": {
             "outlinewidth": 0,
             "ticks": ""
            },
            "type": "contourcarpet"
           }
          ],
          "heatmap": [
           {
            "colorbar": {
             "outlinewidth": 0,
             "ticks": ""
            },
            "colorscale": [
             [
              0,
              "#0d0887"
             ],
             [
              0.1111111111111111,
              "#46039f"
             ],
             [
              0.2222222222222222,
              "#7201a8"
             ],
             [
              0.3333333333333333,
              "#9c179e"
             ],
             [
              0.4444444444444444,
              "#bd3786"
             ],
             [
              0.5555555555555556,
              "#d8576b"
             ],
             [
              0.6666666666666666,
              "#ed7953"
             ],
             [
              0.7777777777777778,
              "#fb9f3a"
             ],
             [
              0.8888888888888888,
              "#fdca26"
             ],
             [
              1,
              "#f0f921"
             ]
            ],
            "type": "heatmap"
           }
          ],
          "heatmapgl": [
           {
            "colorbar": {
             "outlinewidth": 0,
             "ticks": ""
            },
            "colorscale": [
             [
              0,
              "#0d0887"
             ],
             [
              0.1111111111111111,
              "#46039f"
             ],
             [
              0.2222222222222222,
              "#7201a8"
             ],
             [
              0.3333333333333333,
              "#9c179e"
             ],
             [
              0.4444444444444444,
              "#bd3786"
             ],
             [
              0.5555555555555556,
              "#d8576b"
             ],
             [
              0.6666666666666666,
              "#ed7953"
             ],
             [
              0.7777777777777778,
              "#fb9f3a"
             ],
             [
              0.8888888888888888,
              "#fdca26"
             ],
             [
              1,
              "#f0f921"
             ]
            ],
            "type": "heatmapgl"
           }
          ],
          "histogram": [
           {
            "marker": {
             "pattern": {
              "fillmode": "overlay",
              "size": 10,
              "solidity": 0.2
             }
            },
            "type": "histogram"
           }
          ],
          "histogram2d": [
           {
            "colorbar": {
             "outlinewidth": 0,
             "ticks": ""
            },
            "colorscale": [
             [
              0,
              "#0d0887"
             ],
             [
              0.1111111111111111,
              "#46039f"
             ],
             [
              0.2222222222222222,
              "#7201a8"
             ],
             [
              0.3333333333333333,
              "#9c179e"
             ],
             [
              0.4444444444444444,
              "#bd3786"
             ],
             [
              0.5555555555555556,
              "#d8576b"
             ],
             [
              0.6666666666666666,
              "#ed7953"
             ],
             [
              0.7777777777777778,
              "#fb9f3a"
             ],
             [
              0.8888888888888888,
              "#fdca26"
             ],
             [
              1,
              "#f0f921"
             ]
            ],
            "type": "histogram2d"
           }
          ],
          "histogram2dcontour": [
           {
            "colorbar": {
             "outlinewidth": 0,
             "ticks": ""
            },
            "colorscale": [
             [
              0,
              "#0d0887"
             ],
             [
              0.1111111111111111,
              "#46039f"
             ],
             [
              0.2222222222222222,
              "#7201a8"
             ],
             [
              0.3333333333333333,
              "#9c179e"
             ],
             [
              0.4444444444444444,
              "#bd3786"
             ],
             [
              0.5555555555555556,
              "#d8576b"
             ],
             [
              0.6666666666666666,
              "#ed7953"
             ],
             [
              0.7777777777777778,
              "#fb9f3a"
             ],
             [
              0.8888888888888888,
              "#fdca26"
             ],
             [
              1,
              "#f0f921"
             ]
            ],
            "type": "histogram2dcontour"
           }
          ],
          "mesh3d": [
           {
            "colorbar": {
             "outlinewidth": 0,
             "ticks": ""
            },
            "type": "mesh3d"
           }
          ],
          "parcoords": [
           {
            "line": {
             "colorbar": {
              "outlinewidth": 0,
              "ticks": ""
             }
            },
            "type": "parcoords"
           }
          ],
          "pie": [
           {
            "automargin": true,
            "type": "pie"
           }
          ],
          "scatter": [
           {
            "fillpattern": {
             "fillmode": "overlay",
             "size": 10,
             "solidity": 0.2
            },
            "type": "scatter"
           }
          ],
          "scatter3d": [
           {
            "line": {
             "colorbar": {
              "outlinewidth": 0,
              "ticks": ""
             }
            },
            "marker": {
             "colorbar": {
              "outlinewidth": 0,
              "ticks": ""
             }
            },
            "type": "scatter3d"
           }
          ],
          "scattercarpet": [
           {
            "marker": {
             "colorbar": {
              "outlinewidth": 0,
              "ticks": ""
             }
            },
            "type": "scattercarpet"
           }
          ],
          "scattergeo": [
           {
            "marker": {
             "colorbar": {
              "outlinewidth": 0,
              "ticks": ""
             }
            },
            "type": "scattergeo"
           }
          ],
          "scattergl": [
           {
            "marker": {
             "colorbar": {
              "outlinewidth": 0,
              "ticks": ""
             }
            },
            "type": "scattergl"
           }
          ],
          "scattermapbox": [
           {
            "marker": {
             "colorbar": {
              "outlinewidth": 0,
              "ticks": ""
             }
            },
            "type": "scattermapbox"
           }
          ],
          "scatterpolar": [
           {
            "marker": {
             "colorbar": {
              "outlinewidth": 0,
              "ticks": ""
             }
            },
            "type": "scatterpolar"
           }
          ],
          "scatterpolargl": [
           {
            "marker": {
             "colorbar": {
              "outlinewidth": 0,
              "ticks": ""
             }
            },
            "type": "scatterpolargl"
           }
          ],
          "scatterternary": [
           {
            "marker": {
             "colorbar": {
              "outlinewidth": 0,
              "ticks": ""
             }
            },
            "type": "scatterternary"
           }
          ],
          "surface": [
           {
            "colorbar": {
             "outlinewidth": 0,
             "ticks": ""
            },
            "colorscale": [
             [
              0,
              "#0d0887"
             ],
             [
              0.1111111111111111,
              "#46039f"
             ],
             [
              0.2222222222222222,
              "#7201a8"
             ],
             [
              0.3333333333333333,
              "#9c179e"
             ],
             [
              0.4444444444444444,
              "#bd3786"
             ],
             [
              0.5555555555555556,
              "#d8576b"
             ],
             [
              0.6666666666666666,
              "#ed7953"
             ],
             [
              0.7777777777777778,
              "#fb9f3a"
             ],
             [
              0.8888888888888888,
              "#fdca26"
             ],
             [
              1,
              "#f0f921"
             ]
            ],
            "type": "surface"
           }
          ],
          "table": [
           {
            "cells": {
             "fill": {
              "color": "#EBF0F8"
             },
             "line": {
              "color": "white"
             }
            },
            "header": {
             "fill": {
              "color": "#C8D4E3"
             },
             "line": {
              "color": "white"
             }
            },
            "type": "table"
           }
          ]
         },
         "layout": {
          "annotationdefaults": {
           "arrowcolor": "#2a3f5f",
           "arrowhead": 0,
           "arrowwidth": 1
          },
          "autotypenumbers": "strict",
          "coloraxis": {
           "colorbar": {
            "outlinewidth": 0,
            "ticks": ""
           }
          },
          "colorscale": {
           "diverging": [
            [
             0,
             "#8e0152"
            ],
            [
             0.1,
             "#c51b7d"
            ],
            [
             0.2,
             "#de77ae"
            ],
            [
             0.3,
             "#f1b6da"
            ],
            [
             0.4,
             "#fde0ef"
            ],
            [
             0.5,
             "#f7f7f7"
            ],
            [
             0.6,
             "#e6f5d0"
            ],
            [
             0.7,
             "#b8e186"
            ],
            [
             0.8,
             "#7fbc41"
            ],
            [
             0.9,
             "#4d9221"
            ],
            [
             1,
             "#276419"
            ]
           ],
           "sequential": [
            [
             0,
             "#0d0887"
            ],
            [
             0.1111111111111111,
             "#46039f"
            ],
            [
             0.2222222222222222,
             "#7201a8"
            ],
            [
             0.3333333333333333,
             "#9c179e"
            ],
            [
             0.4444444444444444,
             "#bd3786"
            ],
            [
             0.5555555555555556,
             "#d8576b"
            ],
            [
             0.6666666666666666,
             "#ed7953"
            ],
            [
             0.7777777777777778,
             "#fb9f3a"
            ],
            [
             0.8888888888888888,
             "#fdca26"
            ],
            [
             1,
             "#f0f921"
            ]
           ],
           "sequentialminus": [
            [
             0,
             "#0d0887"
            ],
            [
             0.1111111111111111,
             "#46039f"
            ],
            [
             0.2222222222222222,
             "#7201a8"
            ],
            [
             0.3333333333333333,
             "#9c179e"
            ],
            [
             0.4444444444444444,
             "#bd3786"
            ],
            [
             0.5555555555555556,
             "#d8576b"
            ],
            [
             0.6666666666666666,
             "#ed7953"
            ],
            [
             0.7777777777777778,
             "#fb9f3a"
            ],
            [
             0.8888888888888888,
             "#fdca26"
            ],
            [
             1,
             "#f0f921"
            ]
           ]
          },
          "colorway": [
           "#636efa",
           "#EF553B",
           "#00cc96",
           "#ab63fa",
           "#FFA15A",
           "#19d3f3",
           "#FF6692",
           "#B6E880",
           "#FF97FF",
           "#FECB52"
          ],
          "font": {
           "color": "#2a3f5f"
          },
          "geo": {
           "bgcolor": "white",
           "lakecolor": "white",
           "landcolor": "#E5ECF6",
           "showlakes": true,
           "showland": true,
           "subunitcolor": "white"
          },
          "hoverlabel": {
           "align": "left"
          },
          "hovermode": "closest",
          "mapbox": {
           "style": "light"
          },
          "paper_bgcolor": "white",
          "plot_bgcolor": "#E5ECF6",
          "polar": {
           "angularaxis": {
            "gridcolor": "white",
            "linecolor": "white",
            "ticks": ""
           },
           "bgcolor": "#E5ECF6",
           "radialaxis": {
            "gridcolor": "white",
            "linecolor": "white",
            "ticks": ""
           }
          },
          "scene": {
           "xaxis": {
            "backgroundcolor": "#E5ECF6",
            "gridcolor": "white",
            "gridwidth": 2,
            "linecolor": "white",
            "showbackground": true,
            "ticks": "",
            "zerolinecolor": "white"
           },
           "yaxis": {
            "backgroundcolor": "#E5ECF6",
            "gridcolor": "white",
            "gridwidth": 2,
            "linecolor": "white",
            "showbackground": true,
            "ticks": "",
            "zerolinecolor": "white"
           },
           "zaxis": {
            "backgroundcolor": "#E5ECF6",
            "gridcolor": "white",
            "gridwidth": 2,
            "linecolor": "white",
            "showbackground": true,
            "ticks": "",
            "zerolinecolor": "white"
           }
          },
          "shapedefaults": {
           "line": {
            "color": "#2a3f5f"
           }
          },
          "ternary": {
           "aaxis": {
            "gridcolor": "white",
            "linecolor": "white",
            "ticks": ""
           },
           "baxis": {
            "gridcolor": "white",
            "linecolor": "white",
            "ticks": ""
           },
           "bgcolor": "#E5ECF6",
           "caxis": {
            "gridcolor": "white",
            "linecolor": "white",
            "ticks": ""
           }
          },
          "title": {
           "x": 0.05
          },
          "xaxis": {
           "automargin": true,
           "gridcolor": "white",
           "linecolor": "white",
           "ticks": "",
           "title": {
            "standoff": 15
           },
           "zerolinecolor": "white",
           "zerolinewidth": 2
          },
          "yaxis": {
           "automargin": true,
           "gridcolor": "white",
           "linecolor": "white",
           "ticks": "",
           "title": {
            "standoff": 15
           },
           "zerolinecolor": "white",
           "zerolinewidth": 2
          }
         }
        },
        "title": {
         "text": "Project Gantt Chart with Progress",
         "x": 0.5
        },
        "xaxis": {
         "anchor": "y",
         "domain": [
          0,
          1
         ],
         "title": {
          "text": "Timeline"
         },
         "type": "date"
        },
        "yaxis": {
         "anchor": "x",
         "domain": [
          0,
          1
         ],
         "title": {
          "text": "Tasks"
         }
        }
       }
      }
     },
     "metadata": {},
     "output_type": "display_data"
    }
   ],
   "source": [
    "if __name__ == \"__main__\":\n",
    "    # Prompt the user to load a CSV file\n",
    "    file_path = input(\"Enter the path to the CSV file (e.g., root/resources/template.csv): \")\n",
    "    df = load_tasks_from_csv(file_path)\n",
    "    if not df.empty:\n",
    "        print(file_path)\n",
    "        create_gantt_chart(df)\n",
    "    else:\n",
    "        print(file_path)\n",
    "        print(\"No tasks to display.\")\n"
   ]
  },
  {
   "cell_type": "code",
   "execution_count": null,
   "metadata": {},
   "outputs": [],
   "source": []
  }
 ],
 "metadata": {
  "kernelspec": {
   "display_name": "lesson-planning-env",
   "language": "python",
   "name": "python3"
  },
  "language_info": {
   "codemirror_mode": {
    "name": "ipython",
    "version": 3
   },
   "file_extension": ".py",
   "mimetype": "text/x-python",
   "name": "python",
   "nbconvert_exporter": "python",
   "pygments_lexer": "ipython3",
   "version": "3.9.19"
  }
 },
 "nbformat": 4,
 "nbformat_minor": 2
}
